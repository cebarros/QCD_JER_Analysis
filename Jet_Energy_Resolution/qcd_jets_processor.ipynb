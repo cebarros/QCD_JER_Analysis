{
 "cells": [
  {
   "cell_type": "markdown",
   "id": "3a70535a-340d-4e6c-a046-e4fbcb2912a0",
   "metadata": {
    "tags": []
   },
   "source": [
    "# Scaling QCD Jets with Coffea Processor"
   ]
  },
  {
   "cell_type": "code",
   "execution_count": 1,
   "id": "3f741e12-8a10-411c-9218-29a5d6d0c88c",
   "metadata": {
    "tags": []
   },
   "outputs": [],
   "source": [
    "import awkward as ak\n",
    "import numpy as np\n",
    "import coffea\n",
    "import uproot\n",
    "import hist\n",
    "import vector\n",
    "from coffea import util, processor\n",
    "from coffea.nanoevents import NanoEventsFactory, NanoAODSchema, BaseSchema\n",
    "from distributed.diagnostics.plugin import UploadDirectory\n",
    "import matplotlib.pyplot as plt\n",
    "from collections import defaultdict\n",
    "import os\n",
    "import pickle"
   ]
  },
  {
   "cell_type": "code",
   "execution_count": 2,
   "id": "bbe47590-7197-48fc-8fab-e20254ef9cea",
   "metadata": {
    "tags": []
   },
   "outputs": [],
   "source": [
    "%load_ext autoreload\n",
    "%autoreload 2"
   ]
  },
  {
   "cell_type": "code",
   "execution_count": 3,
   "id": "89a4cd40-2dbe-465d-851b-faedb06b2222",
   "metadata": {
    "tags": []
   },
   "outputs": [],
   "source": [
    "from python.smp_utils import *\n",
    "from python.cms_utils import *\n",
    "from python.histogram_lib import *\n",
    "from python.histogram_maker import *"
   ]
  },
  {
   "cell_type": "code",
   "execution_count": 4,
   "id": "adc8c4b1-8720-4611-a0f3-2a7be6255a23",
   "metadata": {
    "tags": []
   },
   "outputs": [
    {
     "data": {
      "application/vnd.jupyter.widget-view+json": {
       "model_id": "f736c288f3ae4507b23e38abe213fb5a",
       "version_major": 2,
       "version_minor": 0
      },
      "text/plain": [
       "Output()"
      ]
     },
     "metadata": {},
     "output_type": "display_data"
    },
    {
     "data": {
      "text/html": [
       "<pre style=\"white-space:pre;overflow-x:auto;line-height:normal;font-family:Menlo,'DejaVu Sans Mono',consolas,'Courier New',monospace\"></pre>\n"
      ],
      "text/plain": []
     },
     "metadata": {},
     "output_type": "display_data"
    },
    {
     "data": {
      "text/html": [
       "<pre style=\"white-space:pre;overflow-x:auto;line-height:normal;font-family:Menlo,'DejaVu Sans Mono',consolas,'Courier New',monospace\">\n",
       "</pre>\n"
      ],
      "text/plain": [
       "\n"
      ]
     },
     "metadata": {},
     "output_type": "display_data"
    },
    {
     "data": {
      "application/vnd.jupyter.widget-view+json": {
       "model_id": "69dd6069a9194a8da428273a37081134",
       "version_major": 2,
       "version_minor": 0
      },
      "text/plain": [
       "Output()"
      ]
     },
     "metadata": {},
     "output_type": "display_data"
    },
    {
     "data": {
      "text/html": [
       "<pre style=\"white-space:pre;overflow-x:auto;line-height:normal;font-family:Menlo,'DejaVu Sans Mono',consolas,'Courier New',monospace\"></pre>\n"
      ],
      "text/plain": []
     },
     "metadata": {},
     "output_type": "display_data"
    },
    {
     "data": {
      "text/html": [
       "<pre style=\"white-space:pre;overflow-x:auto;line-height:normal;font-family:Menlo,'DejaVu Sans Mono',consolas,'Courier New',monospace\">\n",
       "</pre>\n"
      ],
      "text/plain": [
       "\n"
      ]
     },
     "metadata": {},
     "output_type": "display_data"
    }
   ],
   "source": [
    "qcd_jets_maker()"
   ]
  },
  {
   "cell_type": "code",
   "execution_count": 5,
   "id": "7615b617-b60f-421d-843c-8e06d7a0bf9d",
   "metadata": {
    "tags": []
   },
   "outputs": [
    {
     "name": "stdout",
     "output_type": "stream",
     "text": [
      "responses_histogram_rho\n",
      "corrections_histogram\n",
      "cutflow\n"
     ]
    }
   ],
   "source": [
    "with open(\"pkl_files/QCD_pt_response_05-23.pkl\", \"rb\") as f:\n",
    "    output = pickle.load(f)\n",
    "    \n",
    "for k,v in output.items():\n",
    "    print(k)"
   ]
  },
  {
   "cell_type": "code",
   "execution_count": 6,
   "id": "67f845ec-53ce-492d-9f88-3f07ed8d986b",
   "metadata": {
    "tags": []
   },
   "outputs": [
    {
     "data": {
      "text/plain": [
       "dict_keys(['2018', '2017', '2016APV', '2016'])"
      ]
     },
     "execution_count": 6,
     "metadata": {},
     "output_type": "execute_result"
    }
   ],
   "source": [
    "output['cutflow'].keys() "
   ]
  },
  {
   "cell_type": "code",
   "execution_count": null,
   "id": "9543adf0-dd1b-4604-9592-10667fb0cb2b",
   "metadata": {},
   "outputs": [],
   "source": []
  }
 ],
 "metadata": {
  "kernelspec": {
   "display_name": "Python 3 (ipykernel)",
   "language": "python",
   "name": "python3"
  },
  "language_info": {
   "codemirror_mode": {
    "name": "ipython",
    "version": 3
   },
   "file_extension": ".py",
   "mimetype": "text/x-python",
   "name": "python",
   "nbconvert_exporter": "python",
   "pygments_lexer": "ipython3",
   "version": "3.9.18"
  }
 },
 "nbformat": 4,
 "nbformat_minor": 5
}
